{
 "cells": [
  {
   "cell_type": "code",
   "execution_count": 1,
   "id": "1bde403f",
   "metadata": {},
   "outputs": [],
   "source": [
    "import json"
   ]
  },
  {
   "cell_type": "code",
   "execution_count": 2,
   "id": "b4cc783f",
   "metadata": {},
   "outputs": [],
   "source": [
    "epochs = [40, 60, 90, 120, 180, 270, 450]\n",
    "train_json = './not_learned_train_filtered.json'"
   ]
  },
  {
   "cell_type": "code",
   "execution_count": 3,
   "id": "f9cf76d5",
   "metadata": {},
   "outputs": [],
   "source": [
    "labels = {}\n",
    "with open(train_json, 'r') as json_file:\n",
    "    json_data = json.load(json_file)\n",
    "    for label in json_data:\n",
    "        epoch_set = set()\n",
    "        for img_dir in json_data[label]:\n",
    "            epoch_set.add(json_data[label][img_dir])\n",
    "        \n",
    "        if len(epoch_set) == len(epochs):\n",
    "            labels[label] = json_data[label]"
   ]
  },
  {
   "cell_type": "code",
   "execution_count": 4,
   "id": "0547cfa5",
   "metadata": {},
   "outputs": [
    {
     "name": "stdout",
     "output_type": "stream",
     "text": [
      "27 - eft                        -  40 : 3, 60 : 4, 90 : 2, 120 : 3, 180 : 5, 270 : 1, 450 : 1\n",
      "41 - whiptail                   -  40 : 5, 60 : 4, 90 : 2, 120 : 3, 180 : 4, 270 : 5, 450 : 1\n",
      "54 - hognose_snake              -  40 : 19, 60 : 6, 90 : 3, 120 : 3, 180 : 5, 270 : 3, 450 : 1\n",
      "59 - vine_snake                 -  40 : 4, 60 : 7, 90 : 2, 120 : 1, 180 : 6, 270 : 1, 450 : 2\n",
      "60 - night_snake                -  40 : 37, 60 : 17, 90 : 9, 120 : 9, 180 : 2, 270 : 4, 450 : 2\n",
      "66 - horned_viper               -  40 : 11, 60 : 5, 90 : 2, 120 : 4, 180 : 2, 270 : 4, 450 : 3\n",
      "78 - tick                       -  40 : 4, 60 : 2, 90 : 2, 120 : 1, 180 : 2, 270 : 2, 450 : 2\n",
      "158 - toy_terrier               -  40 : 11, 60 : 6, 90 : 4, 120 : 4, 180 : 7, 270 : 5, 450 : 1\n",
      "163 - bloodhound                -  40 : 5, 60 : 3, 90 : 3, 120 : 1, 180 : 3, 270 : 4, 450 : 1\n",
      "167 - English_foxhound          -  40 : 11, 60 : 4, 90 : 2, 120 : 3, 180 : 3, 270 : 1, 450 : 4\n",
      "168 - redbone                   -  40 : 5, 60 : 2, 90 : 1, 120 : 2, 180 : 2, 270 : 1, 450 : 2\n",
      "170 - Irish_wolfhound           -  40 : 4, 60 : 2, 90 : 3, 120 : 1, 180 : 1, 270 : 3, 450 : 2\n",
      "173 - Ibizan_hound              -  40 : 4, 60 : 5, 90 : 4, 120 : 2, 180 : 1, 270 : 2, 450 : 1\n",
      "183 - Kerry_blue_terrier        -  40 : 3, 60 : 2, 90 : 1, 120 : 2, 180 : 2, 270 : 3, 450 : 5\n",
      "184 - Irish_terrier             -  40 : 8, 60 : 6, 90 : 3, 120 : 6, 180 : 2, 270 : 3, 450 : 9\n",
      "186 - Norwich_terrier           -  40 : 8, 60 : 7, 90 : 2, 120 : 3, 180 : 4, 270 : 2, 450 : 1\n",
      "188 - wire-haired_fox_terrier   -  40 : 12, 60 : 5, 90 : 2, 120 : 6, 180 : 4, 270 : 4, 450 : 3\n",
      "193 - Australian_terrier        -  40 : 11, 60 : 3, 90 : 2, 120 : 3, 180 : 1, 270 : 1, 450 : 1\n",
      "197 - giant_schnauzer           -  40 : 5, 60 : 3, 90 : 2, 120 : 2, 180 : 1, 270 : 1, 450 : 3\n",
      "199 - Scotch_terrier            -  40 : 4, 60 : 3, 90 : 1, 120 : 4, 180 : 2, 270 : 2, 450 : 1\n",
      "200 - Tibetan_terrier           -  40 : 12, 60 : 7, 90 : 7, 120 : 3, 180 : 7, 270 : 5, 450 : 3\n",
      "212 - English_setter            -  40 : 2, 60 : 2, 90 : 1, 120 : 1, 180 : 3, 270 : 2, 450 : 4\n",
      "216 - clumber                   -  40 : 5, 60 : 1, 90 : 2, 120 : 1, 180 : 3, 270 : 3, 450 : 5\n",
      "220 - Sussex_spaniel            -  40 : 11, 60 : 5, 90 : 4, 120 : 4, 180 : 4, 270 : 6, 450 : 4\n",
      "240 - Appenzeller               -  40 : 7, 60 : 2, 90 : 2, 120 : 2, 180 : 2, 270 : 1, 450 : 1\n",
      "244 - Tibetan_mastiff           -  40 : 7, 60 : 2, 90 : 4, 120 : 2, 180 : 1, 270 : 1, 450 : 2\n",
      "256 - Newfoundland              -  40 : 3, 60 : 1, 90 : 3, 120 : 1, 180 : 1, 270 : 1, 450 : 1\n",
      "273 - dingo                     -  40 : 10, 60 : 7, 90 : 3, 120 : 6, 180 : 6, 270 : 8, 450 : 5\n",
      "274 - dhole                     -  40 : 7, 60 : 3, 90 : 1, 120 : 5, 180 : 3, 270 : 3, 450 : 1\n",
      "357 - mink                      -  40 : 10, 60 : 7, 90 : 4, 120 : 3, 180 : 1, 270 : 1, 450 : 3\n",
      "371 - patas                     -  40 : 7, 60 : 8, 90 : 5, 120 : 4, 180 : 3, 270 : 2, 450 : 1\n",
      "380 - titi                      -  40 : 19, 60 : 7, 90 : 1, 120 : 6, 180 : 6, 270 : 3, 450 : 2\n",
      "455 - bottlecap                 -  40 : 9, 60 : 9, 90 : 4, 120 : 3, 180 : 2, 270 : 3, 450 : 1\n",
      "471 - cannon                    -  40 : 7, 60 : 4, 90 : 2, 120 : 2, 180 : 1, 270 : 2, 450 : 2\n",
      "479 - car_wheel                 -  40 : 16, 60 : 13, 90 : 5, 120 : 3, 180 : 3, 270 : 1, 450 : 1\n",
      "501 - cloak                     -  40 : 17, 60 : 5, 90 : 4, 120 : 1, 180 : 4, 270 : 3, 450 : 1\n",
      "509 - confectionery             -  40 : 12, 60 : 4, 90 : 1, 120 : 2, 180 : 2, 270 : 1, 450 : 1\n",
      "551 - face_powder               -  40 : 17, 60 : 8, 90 : 5, 120 : 1, 180 : 3, 270 : 1, 450 : 2\n",
      "600 - hook                      -  40 : 33, 60 : 24, 90 : 15, 120 : 7, 180 : 11, 270 : 6, 450 : 2\n",
      "632 - loudspeaker               -  40 : 24, 60 : 17, 90 : 6, 120 : 6, 180 : 2, 270 : 3, 450 : 1\n",
      "649 - megalith                  -  40 : 3, 60 : 1, 90 : 4, 120 : 1, 180 : 1, 270 : 1, 450 : 1\n",
      "659 - mixing_bowl               -  40 : 14, 60 : 11, 90 : 6, 120 : 4, 180 : 3, 270 : 1, 450 : 1\n",
      "695 - padlock                   -  40 : 15, 60 : 9, 90 : 3, 120 : 2, 180 : 5, 270 : 2, 450 : 1\n",
      "705 - passenger_car             -  40 : 13, 60 : 10, 90 : 4, 120 : 8, 180 : 3, 270 : 2, 450 : 1\n",
      "714 - pick                      -  40 : 14, 60 : 4, 90 : 8, 120 : 4, 180 : 1, 270 : 1, 450 : 1\n",
      "754 - radio                     -  40 : 21, 60 : 20, 90 : 8, 120 : 14, 180 : 4, 270 : 1, 450 : 1\n",
      "761 - remote_control            -  40 : 10, 60 : 8, 90 : 4, 120 : 7, 180 : 1, 270 : 1, 450 : 2\n",
      "762 - restaurant                -  40 : 14, 60 : 8, 90 : 5, 120 : 2, 180 : 6, 270 : 5, 450 : 1\n",
      "898 - water_bottle              -  40 : 18, 60 : 14, 90 : 2, 120 : 4, 180 : 2, 270 : 2, 450 : 1\n",
      "961 - dough                     -  40 : 9, 60 : 2, 90 : 4, 120 : 1, 180 : 5, 270 : 2, 450 : 1\n",
      "995 - earthstar                 -  40 : 12, 60 : 7, 90 : 5, 120 : 3, 180 : 4, 270 : 3, 450 : 2\n",
      "996 - hen-of-the-woods          -  40 : 11, 60 : 2, 90 : 2, 120 : 2, 180 : 2, 270 : 1, 450 : 3\n"
     ]
    }
   ],
   "source": [
    "for label in labels:\n",
    "    label_info = {}\n",
    "    for img_dir in labels[label]:\n",
    "        epoch = labels[label][img_dir]\n",
    "        if epoch not in label_info:\n",
    "            label_info[epoch] = 0\n",
    "        label_info[epoch] += 1\n",
    "    print('{:30}  -  40 : {}, 60 : {}, 90 : {}, 120 : {}, 180 : {}, 270 : {}, 450 : {}'.format(label,\n",
    "                                                                                               label_info[40],\n",
    "                                                                                               label_info[60],\n",
    "                                                                                               label_info[90],\n",
    "                                                                                               label_info[120],\n",
    "                                                                                               label_info[180],\n",
    "                                                                                               label_info[270],\n",
    "                                                                                               label_info[450],))"
   ]
  }
 ],
 "metadata": {
  "kernelspec": {
   "display_name": "Python 3 (ipykernel)",
   "language": "python",
   "name": "python3"
  },
  "language_info": {
   "codemirror_mode": {
    "name": "ipython",
    "version": 3
   },
   "file_extension": ".py",
   "mimetype": "text/x-python",
   "name": "python",
   "nbconvert_exporter": "python",
   "pygments_lexer": "ipython3",
   "version": "3.9.12"
  }
 },
 "nbformat": 4,
 "nbformat_minor": 5
}
