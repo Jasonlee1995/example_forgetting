{
 "cells": [
  {
   "cell_type": "code",
   "execution_count": 1,
   "id": "8d575d6b",
   "metadata": {},
   "outputs": [],
   "source": [
    "import json, os\n",
    "import numpy as np"
   ]
  },
  {
   "cell_type": "code",
   "execution_count": 2,
   "id": "a12a44ca",
   "metadata": {},
   "outputs": [],
   "source": [
    "train_dir = '/mnt/ssd1/ImageNet/train'\n",
    "val_dir = '/mnt/ssd1/ImageNet/val'\n",
    "npys_dir = './npys'\n",
    "\n",
    "class_json = './ImageNet_class_index.json'"
   ]
  },
  {
   "cell_type": "code",
   "execution_count": 3,
   "id": "12f3aa96",
   "metadata": {},
   "outputs": [],
   "source": [
    "num2class, class2num = {}, {}\n",
    "\n",
    "with open(class_json) as json_file:\n",
    "    json_data = json.load(json_file)\n",
    "    for num in json_data:\n",
    "        num2class[int(num)] = json_data[num][-1]\n",
    "        class2num[json_data[num][-1]] = int(num)"
   ]
  },
  {
   "cell_type": "code",
   "execution_count": 4,
   "id": "0e453c24",
   "metadata": {},
   "outputs": [],
   "source": [
    "train_imgs = []\n",
    "train_info = {i:0 for i in range(1000)}\n",
    "\n",
    "for label in sorted(os.listdir(train_dir)):\n",
    "    if label.isnumeric():\n",
    "        label_dir = os.path.join(train_dir, label)\n",
    "        for img in sorted(os.listdir(label_dir)):\n",
    "            if img.endswith('.JPEG'):\n",
    "                img_dir = os.path.join(label_dir, img)\n",
    "                train_imgs.append(img_dir)\n",
    "                train_info[int(label)] += 1"
   ]
  },
  {
   "cell_type": "code",
   "execution_count": 5,
   "id": "2b092a45",
   "metadata": {},
   "outputs": [],
   "source": [
    "train_npys_dir = {}\n",
    "\n",
    "for file in sorted(os.listdir(npys_dir)):\n",
    "    if file.endswith('train.npy'):\n",
    "        _, e, _, _ = file.split('_')\n",
    "        if e not in train_npys_dir:\n",
    "            train_npys_dir[e] = []\n",
    "        \n",
    "        train_npys_dir[e].append(os.path.join(npys_dir, file))"
   ]
  },
  {
   "cell_type": "code",
   "execution_count": 6,
   "id": "775f1a80",
   "metadata": {},
   "outputs": [
    {
     "name": "stdout",
     "output_type": "stream",
     "text": [
      "040\n",
      "./npys/ResNet50_040_00_train.npy\n",
      "./npys/ResNet50_040_01_train.npy\n",
      "./npys/ResNet50_040_02_train.npy\n",
      "./npys/ResNet50_040_03_train.npy\n",
      "./npys/ResNet50_040_04_train.npy\n",
      "./npys/ResNet50_040_05_train.npy\n",
      "./npys/ResNet50_040_06_train.npy\n",
      "./npys/ResNet50_040_07_train.npy\n",
      "\n",
      "060\n",
      "./npys/ResNet50_060_00_train.npy\n",
      "./npys/ResNet50_060_01_train.npy\n",
      "./npys/ResNet50_060_02_train.npy\n",
      "./npys/ResNet50_060_03_train.npy\n",
      "./npys/ResNet50_060_04_train.npy\n",
      "./npys/ResNet50_060_05_train.npy\n",
      "./npys/ResNet50_060_06_train.npy\n",
      "./npys/ResNet50_060_07_train.npy\n",
      "\n",
      "090\n",
      "./npys/ResNet50_090_00_train.npy\n",
      "./npys/ResNet50_090_01_train.npy\n",
      "./npys/ResNet50_090_02_train.npy\n",
      "./npys/ResNet50_090_03_train.npy\n",
      "./npys/ResNet50_090_04_train.npy\n",
      "./npys/ResNet50_090_05_train.npy\n",
      "./npys/ResNet50_090_06_train.npy\n",
      "./npys/ResNet50_090_07_train.npy\n",
      "\n",
      "120\n",
      "./npys/ResNet50_120_00_train.npy\n",
      "./npys/ResNet50_120_01_train.npy\n",
      "./npys/ResNet50_120_02_train.npy\n",
      "./npys/ResNet50_120_03_train.npy\n",
      "./npys/ResNet50_120_04_train.npy\n",
      "./npys/ResNet50_120_05_train.npy\n",
      "./npys/ResNet50_120_06_train.npy\n",
      "./npys/ResNet50_120_07_train.npy\n",
      "\n",
      "180\n",
      "./npys/ResNet50_180_00_train.npy\n",
      "./npys/ResNet50_180_01_train.npy\n",
      "./npys/ResNet50_180_02_train.npy\n",
      "./npys/ResNet50_180_03_train.npy\n",
      "./npys/ResNet50_180_04_train.npy\n",
      "./npys/ResNet50_180_05_train.npy\n",
      "./npys/ResNet50_180_06_train.npy\n",
      "./npys/ResNet50_180_07_train.npy\n",
      "\n",
      "270\n",
      "./npys/ResNet50_270_00_train.npy\n",
      "./npys/ResNet50_270_01_train.npy\n",
      "./npys/ResNet50_270_02_train.npy\n",
      "./npys/ResNet50_270_03_train.npy\n",
      "./npys/ResNet50_270_04_train.npy\n",
      "./npys/ResNet50_270_05_train.npy\n",
      "./npys/ResNet50_270_06_train.npy\n",
      "./npys/ResNet50_270_07_train.npy\n",
      "\n"
     ]
    }
   ],
   "source": [
    "train_events = {}\n",
    "\n",
    "for epoch in train_npys_dir:\n",
    "    print(epoch)\n",
    "    train_events[epoch] = {}\n",
    "    for npy_dir in train_npys_dir[epoch]:\n",
    "        print(npy_dir)\n",
    "        npy = np.load(npy_dir)\n",
    "        for i in range(npy.shape[0]):\n",
    "            img = train_imgs[i]\n",
    "            if img not in train_events[epoch]:\n",
    "                train_events[epoch][img] = {'first_learning_event' : [], 'forgetting_event' : []}\n",
    "\n",
    "            img_event = npy[i]\n",
    "            img_event = ''.join(map(str, img_event.tolist()))\n",
    "\n",
    "            if '1' in img_event:\n",
    "                train_events[epoch][img]['first_learning_event'].append(1 + img_event.index('1'))\n",
    "            else:\n",
    "                train_events[epoch][img]['first_learning_event'].append(-1)\n",
    "\n",
    "            train_events[epoch][img]['forgetting_event'].append(img_event.count('10'))\n",
    "    print()"
   ]
  },
  {
   "cell_type": "code",
   "execution_count": 7,
   "id": "1215c330",
   "metadata": {},
   "outputs": [
    {
     "name": "stdout",
     "output_type": "stream",
     "text": [
      "040\n",
      "060\n",
      "090\n",
      "120\n",
      "180\n",
      "270\n"
     ]
    }
   ],
   "source": [
    "# train imgs not learned by model\n",
    "\n",
    "for epoch in train_events:\n",
    "    print(epoch)\n",
    "    dic = {num2class[i] : [] for i in range(1000)}\n",
    "    for img in train_events[epoch]:\n",
    "        img_label = int(img.split('/')[5])\n",
    "\n",
    "        for first_learn in train_events[epoch][img]['first_learning_event']:\n",
    "            if first_learn != -1:\n",
    "                break\n",
    "        else:\n",
    "            dic[num2class[img_label]].append(img)\n",
    "            \n",
    "    with open('./not_learned_train_{}.json'.format(epoch), 'w') as j:\n",
    "        json.dump(dic, j, indent=4)"
   ]
  }
 ],
 "metadata": {
  "kernelspec": {
   "display_name": "Python 3 (ipykernel)",
   "language": "python",
   "name": "python3"
  },
  "language_info": {
   "codemirror_mode": {
    "name": "ipython",
    "version": 3
   },
   "file_extension": ".py",
   "mimetype": "text/x-python",
   "name": "python",
   "nbconvert_exporter": "python",
   "pygments_lexer": "ipython3",
   "version": "3.8.10"
  }
 },
 "nbformat": 4,
 "nbformat_minor": 5
}
