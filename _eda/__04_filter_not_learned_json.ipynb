{
 "cells": [
  {
   "cell_type": "code",
   "execution_count": 1,
   "id": "1bde403f",
   "metadata": {},
   "outputs": [],
   "source": [
    "import json"
   ]
  },
  {
   "cell_type": "code",
   "execution_count": 2,
   "id": "b4cc783f",
   "metadata": {},
   "outputs": [],
   "source": [
    "epochs = [40, 60, 90, 120, 180, 270, 450]\n",
    "train_json = './not_learned_train.json'"
   ]
  },
  {
   "cell_type": "code",
   "execution_count": 3,
   "id": "f9cf76d5",
   "metadata": {},
   "outputs": [],
   "source": [
    "filtered = {}\n",
    "with open(train_json, 'r') as json_file:\n",
    "    json_data = json.load(json_file)\n",
    "    for label in json_data:\n",
    "        if label not in filtered: filtered[label] = {}\n",
    "        for img_dir in json_data[label]:\n",
    "            n = len(json_data[label][img_dir])\n",
    "            if json_data[label][img_dir] == epochs[:n]:\n",
    "                filtered[label][img_dir] = epochs[:n][-1]"
   ]
  },
  {
   "cell_type": "code",
   "execution_count": 4,
   "id": "d5aa289f",
   "metadata": {},
   "outputs": [],
   "source": [
    "with open('./not_learned_train_filtered.json', 'w') as j:\n",
    "    json.dump(filtered, j, indent=4)"
   ]
  }
 ],
 "metadata": {
  "kernelspec": {
   "display_name": "Python 3 (ipykernel)",
   "language": "python",
   "name": "python3"
  },
  "language_info": {
   "codemirror_mode": {
    "name": "ipython",
    "version": 3
   },
   "file_extension": ".py",
   "mimetype": "text/x-python",
   "name": "python",
   "nbconvert_exporter": "python",
   "pygments_lexer": "ipython3",
   "version": "3.9.12"
  }
 },
 "nbformat": 4,
 "nbformat_minor": 5
}
