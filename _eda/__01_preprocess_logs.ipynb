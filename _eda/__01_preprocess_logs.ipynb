{
 "cells": [
  {
   "cell_type": "code",
   "execution_count": 1,
   "id": "ccd21bb3",
   "metadata": {},
   "outputs": [],
   "source": [
    "import os"
   ]
  },
  {
   "cell_type": "code",
   "execution_count": 2,
   "id": "13a6aa09",
   "metadata": {},
   "outputs": [],
   "source": [
    "logs_dir = './_train_logs'"
   ]
  },
  {
   "cell_type": "code",
   "execution_count": 3,
   "id": "5c3d260f",
   "metadata": {
    "scrolled": false
   },
   "outputs": [
    {
     "name": "stdout",
     "output_type": "stream",
     "text": [
      "15 ['ResNet50_015_00.txt']\n",
      "\n",
      "40 ['ResNet50_040_00.txt']\n",
      "\n",
      "60 ['ResNet50_060_00.txt']\n",
      "\n"
     ]
    }
   ],
   "source": [
    "epoch2logs = {}\n",
    "for file in sorted(os.listdir(logs_dir)):\n",
    "    if file.endswith('.txt'):\n",
    "        epoch = int(file.split('_')[1])\n",
    "        if epoch not in epoch2logs:\n",
    "            epoch2logs[epoch] = []\n",
    "        epoch2logs[epoch].append(file)\n",
    "    \n",
    "for epoch in epoch2logs:\n",
    "    print(epoch, epoch2logs[epoch])\n",
    "    print()"
   ]
  },
  {
   "cell_type": "code",
   "execution_count": 4,
   "id": "7027d231",
   "metadata": {},
   "outputs": [
    {
     "name": "stdout",
     "output_type": "stream",
     "text": [
      "15 [71.512]\n",
      "40 [73.624]\n",
      "60 [73.718]\n"
     ]
    }
   ],
   "source": [
    "for epoch in sorted(epoch2logs):\n",
    "    epoch_accs = []\n",
    "    for log in sorted(epoch2logs[epoch]):\n",
    "        best_acc = 0\n",
    "        with open(os.path.join(logs_dir, log)) as t:\n",
    "            for i, line in enumerate(t.readlines()):\n",
    "                if i >= 19:\n",
    "                    acc = float(line.split(',')[1])\n",
    "                    best_acc = max(best_acc, acc)\n",
    "        epoch_accs.append(best_acc)\n",
    "    print(epoch, epoch_accs)"
   ]
  }
 ],
 "metadata": {
  "kernelspec": {
   "display_name": "Python 3 (ipykernel)",
   "language": "python",
   "name": "python3"
  },
  "language_info": {
   "codemirror_mode": {
    "name": "ipython",
    "version": 3
   },
   "file_extension": ".py",
   "mimetype": "text/x-python",
   "name": "python",
   "nbconvert_exporter": "python",
   "pygments_lexer": "ipython3",
   "version": "3.9.13"
  }
 },
 "nbformat": 4,
 "nbformat_minor": 5
}
