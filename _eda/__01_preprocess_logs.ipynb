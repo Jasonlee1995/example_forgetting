{
 "cells": [
  {
   "cell_type": "code",
   "execution_count": 1,
   "id": "ccd21bb3",
   "metadata": {},
   "outputs": [],
   "source": [
    "import os"
   ]
  },
  {
   "cell_type": "code",
   "execution_count": 2,
   "id": "13a6aa09",
   "metadata": {},
   "outputs": [],
   "source": [
    "logs_dir = './_train_logs'"
   ]
  },
  {
   "cell_type": "code",
   "execution_count": 3,
   "id": "5c3d260f",
   "metadata": {
    "scrolled": false
   },
   "outputs": [
    {
     "name": "stdout",
     "output_type": "stream",
     "text": [
      "40 ['ResNet50_040_00.txt', 'ResNet50_040_01.txt', 'ResNet50_040_02.txt', 'ResNet50_040_03.txt', 'ResNet50_040_04.txt', 'ResNet50_040_05.txt', 'ResNet50_040_06.txt', 'ResNet50_040_07.txt']\n",
      "\n",
      "60 ['ResNet50_060_00.txt', 'ResNet50_060_01.txt', 'ResNet50_060_02.txt', 'ResNet50_060_03.txt', 'ResNet50_060_04.txt', 'ResNet50_060_05.txt', 'ResNet50_060_06.txt', 'ResNet50_060_07.txt']\n",
      "\n",
      "90 ['ResNet50_090_00.txt', 'ResNet50_090_01.txt', 'ResNet50_090_02.txt', 'ResNet50_090_03.txt', 'ResNet50_090_04.txt', 'ResNet50_090_05.txt', 'ResNet50_090_06.txt', 'ResNet50_090_07.txt']\n",
      "\n",
      "120 ['ResNet50_120_00.txt', 'ResNet50_120_01.txt', 'ResNet50_120_02.txt', 'ResNet50_120_03.txt', 'ResNet50_120_04.txt', 'ResNet50_120_05.txt', 'ResNet50_120_06.txt', 'ResNet50_120_07.txt']\n",
      "\n",
      "180 ['ResNet50_180_00.txt', 'ResNet50_180_01.txt', 'ResNet50_180_02.txt', 'ResNet50_180_03.txt', 'ResNet50_180_04.txt', 'ResNet50_180_05.txt', 'ResNet50_180_06.txt', 'ResNet50_180_07.txt']\n",
      "\n",
      "270 ['ResNet50_270_00.txt', 'ResNet50_270_01.txt', 'ResNet50_270_02.txt', 'ResNet50_270_03.txt', 'ResNet50_270_04.txt', 'ResNet50_270_05.txt', 'ResNet50_270_06.txt', 'ResNet50_270_07.txt']\n",
      "\n",
      "450 ['ResNet50_450_00.txt', 'ResNet50_450_01.txt', 'ResNet50_450_02.txt', 'ResNet50_450_03.txt', 'ResNet50_450_04.txt', 'ResNet50_450_05.txt', 'ResNet50_450_06.txt', 'ResNet50_450_07.txt']\n",
      "\n"
     ]
    }
   ],
   "source": [
    "epoch2logs = {}\n",
    "for file in sorted(os.listdir(logs_dir)):\n",
    "    if file.endswith('.txt'):\n",
    "        epoch = int(file.split('_')[1])\n",
    "        if epoch not in epoch2logs:\n",
    "            epoch2logs[epoch] = []\n",
    "        epoch2logs[epoch].append(file)\n",
    "    \n",
    "for epoch in epoch2logs:\n",
    "    print(epoch, epoch2logs[epoch])\n",
    "    print()"
   ]
  },
  {
   "cell_type": "code",
   "execution_count": 4,
   "id": "7027d231",
   "metadata": {},
   "outputs": [
    {
     "name": "stdout",
     "output_type": "stream",
     "text": [
      "40 [75.286, 75.104, 75.198, 75.224, 75.222, 75.236, 75.136, 75.248]\n",
      "60 [76.112, 76.292, 76.186, 76.134, 76.134, 76.188, 76.272, 76.148]\n",
      "90 [76.792, 76.66, 76.94, 76.816, 76.648, 76.82, 76.798, 76.778]\n",
      "120 [76.994, 77.136, 76.958, 77.018, 77.072, 77.046, 77.05, 77.212]\n",
      "180 [77.232, 77.076, 77.02, 77.112, 77.186, 77.196, 77.356, 77.234]\n",
      "270 [77.144, 77.062, 76.926, 77.046, 77.198, 77.104, 77.018, 76.978]\n",
      "450 [76.922, 76.628, 76.882, 76.714, 76.88, 76.76, 76.852, 76.64]\n"
     ]
    }
   ],
   "source": [
    "for epoch in sorted(epoch2logs):\n",
    "    epoch_accs = []\n",
    "    for log in sorted(epoch2logs[epoch]):\n",
    "        best_acc = 0\n",
    "        with open(os.path.join(logs_dir, log)) as t:\n",
    "            for i, line in enumerate(t.readlines()):\n",
    "                if i >= 19:\n",
    "                    acc = float(line.split(',')[1])\n",
    "                    best_acc = max(best_acc, acc)\n",
    "        epoch_accs.append(best_acc)\n",
    "    print(epoch, epoch_accs)"
   ]
  },
  {
   "cell_type": "code",
   "execution_count": 5,
   "id": "7565da91",
   "metadata": {},
   "outputs": [
    {
     "name": "stdout",
     "output_type": "stream",
     "text": [
      "|40|75.2067|75.2860|75.1040|75.1980|75.2240|75.2220|75.2360|75.1360|75.2480|\n",
      "|60|76.1833|76.1120|76.2920|76.1860|76.1340|76.1340|76.1880|76.2720|76.1480|\n",
      "|90|76.7815|76.7920|76.6600|76.9400|76.8160|76.6480|76.8200|76.7980|76.7780|\n",
      "|120|77.0607|76.9940|77.1360|76.9580|77.0180|77.0720|77.0460|77.0500|77.2120|\n",
      "|180|77.1765|77.2320|77.0760|77.0200|77.1120|77.1860|77.1960|77.3560|77.2340|\n",
      "|270|77.0595|77.1440|77.0620|76.9260|77.0460|77.1980|77.1040|77.0180|76.9780|\n",
      "|450|76.7848|76.9220|76.6280|76.8820|76.7140|76.8800|76.7600|76.8520|76.6400|\n"
     ]
    }
   ],
   "source": [
    "for epoch in sorted(epoch2logs):\n",
    "    epoch_accs = []\n",
    "    for log in sorted(epoch2logs[epoch]):\n",
    "        best_acc = 0\n",
    "        with open(os.path.join(logs_dir, log)) as t:\n",
    "            for i, line in enumerate(t.readlines()):\n",
    "                if i >= 19:\n",
    "                    acc = float(line.split(',')[1])\n",
    "                    best_acc = max(best_acc, acc)\n",
    "        epoch_accs.append(best_acc)\n",
    "    print('|{}|{:.4f}|{:.4f}|{:.4f}|{:.4f}|{:.4f}|{:.4f}|{:.4f}|{:.4f}|{:.4f}|'.format(epoch, \n",
    "                                                                                       sum(epoch_accs) / len(epoch_accs),\n",
    "                                                                                       *epoch_accs))"
   ]
  }
 ],
 "metadata": {
  "kernelspec": {
   "display_name": "Python 3 (ipykernel)",
   "language": "python",
   "name": "python3"
  },
  "language_info": {
   "codemirror_mode": {
    "name": "ipython",
    "version": 3
   },
   "file_extension": ".py",
   "mimetype": "text/x-python",
   "name": "python",
   "nbconvert_exporter": "python",
   "pygments_lexer": "ipython3",
   "version": "3.9.12"
  }
 },
 "nbformat": 4,
 "nbformat_minor": 5
}
