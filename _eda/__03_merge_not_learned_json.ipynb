{
 "cells": [
  {
   "cell_type": "code",
   "execution_count": 1,
   "id": "1bde403f",
   "metadata": {},
   "outputs": [],
   "source": [
    "import json, os"
   ]
  },
  {
   "cell_type": "code",
   "execution_count": 2,
   "id": "b4cc783f",
   "metadata": {},
   "outputs": [],
   "source": [
    "class_json = './ImageNet_class_index.json'\n",
    "json_dir = './_not_learned_json'"
   ]
  },
  {
   "cell_type": "code",
   "execution_count": 3,
   "id": "adddaa64",
   "metadata": {},
   "outputs": [
    {
     "name": "stdout",
     "output_type": "stream",
     "text": [
      "1000\n"
     ]
    }
   ],
   "source": [
    "infos = {}\n",
    "with open(class_json, 'r') as json_file:\n",
    "    json_data = json.load(json_file)\n",
    "    for num in json_data:\n",
    "        infos['{} - {}'.format(int(num), json_data[num][-1])] = {}\n",
    "\n",
    "print(len(infos))"
   ]
  },
  {
   "cell_type": "code",
   "execution_count": 4,
   "id": "9cc0d15b",
   "metadata": {},
   "outputs": [
    {
     "name": "stdout",
     "output_type": "stream",
     "text": [
      "not_learned_train_015.json\n",
      "not_learned_train_040.json\n",
      "not_learned_train_060.json\n"
     ]
    }
   ],
   "source": [
    "for file in sorted(os.listdir(json_dir)):\n",
    "    print(file)"
   ]
  },
  {
   "cell_type": "code",
   "execution_count": 5,
   "id": "f9cf76d5",
   "metadata": {},
   "outputs": [],
   "source": [
    "for file in sorted(os.listdir(json_dir)):\n",
    "    epoch = int(file.split('_')[-1][:3])\n",
    "    epoch_json = os.path.join(json_dir, file)\n",
    "    with open(epoch_json, 'r') as json_file:\n",
    "        json_data = json.load(json_file)\n",
    "        for label in json_data:\n",
    "            for img_dir in json_data[label]:\n",
    "                num = int(img_dir.split('/')[-2])\n",
    "                if img_dir not in infos['{} - {}'.format(num, label)]:\n",
    "                    infos['{} - {}'.format(num, label)][img_dir] = []\n",
    "                infos['{} - {}'.format(num, label)][img_dir].append(epoch)"
   ]
  },
  {
   "cell_type": "code",
   "execution_count": 6,
   "id": "d5aa289f",
   "metadata": {},
   "outputs": [],
   "source": [
    "with open('./not_learned_train.json', 'w') as j:\n",
    "    json.dump(infos, j, indent=4)"
   ]
  }
 ],
 "metadata": {
  "kernelspec": {
   "display_name": "Python 3 (ipykernel)",
   "language": "python",
   "name": "python3"
  },
  "language_info": {
   "codemirror_mode": {
    "name": "ipython",
    "version": 3
   },
   "file_extension": ".py",
   "mimetype": "text/x-python",
   "name": "python",
   "nbconvert_exporter": "python",
   "pygments_lexer": "ipython3",
   "version": "3.9.13"
  }
 },
 "nbformat": 4,
 "nbformat_minor": 5
}
